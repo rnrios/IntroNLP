{
 "cells": [
  {
   "cell_type": "markdown",
   "id": "a3ddf57f",
   "metadata": {},
   "source": [
    "# Exploring data"
   ]
  },
  {
   "cell_type": "code",
   "execution_count": 35,
   "id": "b1b8592e",
   "metadata": {},
   "outputs": [],
   "source": [
    "import pandas as pd\n",
    "\n",
    "\n",
    "df_pt = pd.read_csv('stackoverflow-pt.csv')\n",
    "df_en = pd.read_csv('stackoverflow-en.csv')\n",
    "df_es = pd.read_csv('stackoverflow-es.csv')"
   ]
  },
  {
   "cell_type": "code",
   "execution_count": 2,
   "id": "f7d32206",
   "metadata": {},
   "outputs": [
    {
     "data": {
      "text/html": [
       "<div>\n",
       "<style scoped>\n",
       "    .dataframe tbody tr th:only-of-type {\n",
       "        vertical-align: middle;\n",
       "    }\n",
       "\n",
       "    .dataframe tbody tr th {\n",
       "        vertical-align: top;\n",
       "    }\n",
       "\n",
       "    .dataframe thead th {\n",
       "        text-align: right;\n",
       "    }\n",
       "</style>\n",
       "<table border=\"1\" class=\"dataframe\">\n",
       "  <thead>\n",
       "    <tr style=\"text-align: right;\">\n",
       "      <th></th>\n",
       "      <th>Id</th>\n",
       "      <th>Título</th>\n",
       "      <th>Questão</th>\n",
       "      <th>Tags</th>\n",
       "      <th>Pontuação</th>\n",
       "      <th>Visualizações</th>\n",
       "    </tr>\n",
       "  </thead>\n",
       "  <tbody>\n",
       "    <tr>\n",
       "      <th>0</th>\n",
       "      <td>2402</td>\n",
       "      <td>Como fazer hash de senhas de forma segura?</td>\n",
       "      <td>&lt;p&gt;Se eu fizer o &lt;em&gt;&lt;a href=\"http://pt.wikipe...</td>\n",
       "      <td>&lt;hash&gt;&lt;segurança&gt;&lt;senhas&gt;&lt;criptografia&gt;</td>\n",
       "      <td>350</td>\n",
       "      <td>22367</td>\n",
       "    </tr>\n",
       "    <tr>\n",
       "      <th>1</th>\n",
       "      <td>6441</td>\n",
       "      <td>Qual é a diferença entre INNER JOIN e OUTER JOIN?</td>\n",
       "      <td>&lt;p&gt;Qual é a diferença entre &lt;code&gt;INNER JOIN&lt;/...</td>\n",
       "      <td>&lt;sql&gt;&lt;join&gt;</td>\n",
       "      <td>276</td>\n",
       "      <td>176953</td>\n",
       "    </tr>\n",
       "    <tr>\n",
       "      <th>2</th>\n",
       "      <td>579</td>\n",
       "      <td>Por que não devemos usar funções do tipo mysql_*?</td>\n",
       "      <td>&lt;p&gt;Uma dúvida muito comum é por que devemos pa...</td>\n",
       "      <td>&lt;php&gt;&lt;mysql&gt;</td>\n",
       "      <td>226</td>\n",
       "      <td>9761</td>\n",
       "    </tr>\n",
       "    <tr>\n",
       "      <th>3</th>\n",
       "      <td>2539</td>\n",
       "      <td>As mensagens de erro devem se desculpar?</td>\n",
       "      <td>&lt;p&gt;É comum encontrar uma mensagem de erro que ...</td>\n",
       "      <td>&lt;aplicação-web&gt;&lt;gui&gt;&lt;console&gt;&lt;ux&gt;</td>\n",
       "      <td>214</td>\n",
       "      <td>5075</td>\n",
       "    </tr>\n",
       "    <tr>\n",
       "      <th>4</th>\n",
       "      <td>17501</td>\n",
       "      <td>Qual é a diferença de API, biblioteca e Framew...</td>\n",
       "      <td>&lt;p&gt;Me parecem termos muito próximos e eventual...</td>\n",
       "      <td>&lt;api&gt;&lt;framework&gt;&lt;terminologia&gt;&lt;biblioteca&gt;</td>\n",
       "      <td>193</td>\n",
       "      <td>54191</td>\n",
       "    </tr>\n",
       "  </tbody>\n",
       "</table>\n",
       "</div>"
      ],
      "text/plain": [
       "      Id                                             Título  \\\n",
       "0   2402         Como fazer hash de senhas de forma segura?   \n",
       "1   6441  Qual é a diferença entre INNER JOIN e OUTER JOIN?   \n",
       "2    579  Por que não devemos usar funções do tipo mysql_*?   \n",
       "3   2539           As mensagens de erro devem se desculpar?   \n",
       "4  17501  Qual é a diferença de API, biblioteca e Framew...   \n",
       "\n",
       "                                             Questão  \\\n",
       "0  <p>Se eu fizer o <em><a href=\"http://pt.wikipe...   \n",
       "1  <p>Qual é a diferença entre <code>INNER JOIN</...   \n",
       "2  <p>Uma dúvida muito comum é por que devemos pa...   \n",
       "3  <p>É comum encontrar uma mensagem de erro que ...   \n",
       "4  <p>Me parecem termos muito próximos e eventual...   \n",
       "\n",
       "                                         Tags  Pontuação  Visualizações  \n",
       "0     <hash><segurança><senhas><criptografia>        350          22367  \n",
       "1                                 <sql><join>        276         176953  \n",
       "2                                <php><mysql>        226           9761  \n",
       "3           <aplicação-web><gui><console><ux>        214           5075  \n",
       "4  <api><framework><terminologia><biblioteca>        193          54191  "
      ]
     },
     "execution_count": 2,
     "metadata": {},
     "output_type": "execute_result"
    }
   ],
   "source": [
    "df_pt.head()"
   ]
  },
  {
   "cell_type": "code",
   "execution_count": 3,
   "id": "253ede35",
   "metadata": {},
   "outputs": [
    {
     "data": {
      "text/html": [
       "<div>\n",
       "<style scoped>\n",
       "    .dataframe tbody tr th:only-of-type {\n",
       "        vertical-align: middle;\n",
       "    }\n",
       "\n",
       "    .dataframe tbody tr th {\n",
       "        vertical-align: top;\n",
       "    }\n",
       "\n",
       "    .dataframe thead th {\n",
       "        text-align: right;\n",
       "    }\n",
       "</style>\n",
       "<table border=\"1\" class=\"dataframe\">\n",
       "  <thead>\n",
       "    <tr style=\"text-align: right;\">\n",
       "      <th></th>\n",
       "      <th>Id</th>\n",
       "      <th>Título</th>\n",
       "      <th>Questão</th>\n",
       "      <th>Tags</th>\n",
       "      <th>Pontuação</th>\n",
       "      <th>Visualizações</th>\n",
       "    </tr>\n",
       "  </thead>\n",
       "  <tbody>\n",
       "    <tr>\n",
       "      <th>0</th>\n",
       "      <td>11227809</td>\n",
       "      <td>Why is it faster to process a sorted array tha...</td>\n",
       "      <td>&lt;p&gt;Here is a piece of C++ code that seems very...</td>\n",
       "      <td>&lt;java&gt;&lt;c++&gt;&lt;performance&gt;&lt;optimization&gt;&lt;branch-...</td>\n",
       "      <td>23057</td>\n",
       "      <td>1358574</td>\n",
       "    </tr>\n",
       "    <tr>\n",
       "      <th>1</th>\n",
       "      <td>927358</td>\n",
       "      <td>How do I undo the most recent local commits in...</td>\n",
       "      <td>&lt;p&gt;I accidentally committed the wrong files to...</td>\n",
       "      <td>&lt;git&gt;&lt;version-control&gt;&lt;git-commit&gt;&lt;undo&gt;</td>\n",
       "      <td>19640</td>\n",
       "      <td>7906137</td>\n",
       "    </tr>\n",
       "    <tr>\n",
       "      <th>2</th>\n",
       "      <td>2003505</td>\n",
       "      <td>How do I delete a Git branch locally and remot...</td>\n",
       "      <td>&lt;p&gt;I want to delete a branch both locally and ...</td>\n",
       "      <td>&lt;git&gt;&lt;git-branch&gt;&lt;git-remote&gt;</td>\n",
       "      <td>15249</td>\n",
       "      <td>6940906</td>\n",
       "    </tr>\n",
       "    <tr>\n",
       "      <th>3</th>\n",
       "      <td>292357</td>\n",
       "      <td>What is the difference between 'git pull' and ...</td>\n",
       "      <td>&lt;blockquote&gt;\\n  &lt;p&gt;&lt;strong&gt;Moderator Note:&lt;/st...</td>\n",
       "      <td>&lt;git&gt;&lt;git-pull&gt;&lt;git-fetch&gt;</td>\n",
       "      <td>11008</td>\n",
       "      <td>2543052</td>\n",
       "    </tr>\n",
       "    <tr>\n",
       "      <th>4</th>\n",
       "      <td>477816</td>\n",
       "      <td>What is the correct JSON content type?</td>\n",
       "      <td>&lt;p&gt;I've been messing around with &lt;a href=\"http...</td>\n",
       "      <td>&lt;json&gt;&lt;http-headers&gt;&lt;content-type&gt;</td>\n",
       "      <td>9701</td>\n",
       "      <td>2478940</td>\n",
       "    </tr>\n",
       "  </tbody>\n",
       "</table>\n",
       "</div>"
      ],
      "text/plain": [
       "         Id                                             Título  \\\n",
       "0  11227809  Why is it faster to process a sorted array tha...   \n",
       "1    927358  How do I undo the most recent local commits in...   \n",
       "2   2003505  How do I delete a Git branch locally and remot...   \n",
       "3    292357  What is the difference between 'git pull' and ...   \n",
       "4    477816             What is the correct JSON content type?   \n",
       "\n",
       "                                             Questão  \\\n",
       "0  <p>Here is a piece of C++ code that seems very...   \n",
       "1  <p>I accidentally committed the wrong files to...   \n",
       "2  <p>I want to delete a branch both locally and ...   \n",
       "3  <blockquote>\\n  <p><strong>Moderator Note:</st...   \n",
       "4  <p>I've been messing around with <a href=\"http...   \n",
       "\n",
       "                                                Tags  Pontuação  Visualizações  \n",
       "0  <java><c++><performance><optimization><branch-...      23057        1358574  \n",
       "1           <git><version-control><git-commit><undo>      19640        7906137  \n",
       "2                      <git><git-branch><git-remote>      15249        6940906  \n",
       "3                         <git><git-pull><git-fetch>      11008        2543052  \n",
       "4                 <json><http-headers><content-type>       9701        2478940  "
      ]
     },
     "execution_count": 3,
     "metadata": {},
     "output_type": "execute_result"
    }
   ],
   "source": [
    "df_en.head()"
   ]
  },
  {
   "cell_type": "code",
   "execution_count": 4,
   "id": "98029e75",
   "metadata": {},
   "outputs": [
    {
     "data": {
      "text/plain": [
       "'<p>Se eu fizer o <em><a href=\"http://pt.wikipedia.org/wiki/Fun%C3%A7%C3%A3o_de_embaralhamento_criptogr%C3%A1fico\" rel=\"noreferrer\">hash</a></em> de senhas antes de armazená-las em meu banco de dados é suficiente para evitar que elas sejam recuperadas por alguém?</p>\\n\\n<p>Estou falando apenas da recuperação diretamente do banco de dados e não qualquer outro tipo de ataque, como <a href=\"http://pt.wikipedia.org/wiki/Ataque_de_for%C3%A7a_bruta\" rel=\"noreferrer\">força bruta</a> na página de login da aplicação, <em><a href=\"http://pt.wikipedia.org/wiki/Keylogger\" rel=\"noreferrer\">keylogger</a></em> no cliente e <a href=\"http://pt.wikipedia.org/wiki/Criptoan%C3%A1lise_de_mangueira_de_borracha\" rel=\"noreferrer\">criptoanálise <em>rubberhose</em></a>. Qualquer forma de <em>hash</em> não vai impedir esses ataques.</p>\\n\\n<p>Tenho preocupação em dificultar ou até impossibilitar a obtenção das senhas originais caso o banco de dados seja comprometido. Como dar maior garantia de segurança neste aspecto?</p>\\n\\n<p>Quais preocupações adicionais evitariam o acesso às senhas? Existem formas melhores de fazer esse <em>hash</em>?</p>\\n'"
      ]
     },
     "execution_count": 4,
     "metadata": {},
     "output_type": "execute_result"
    }
   ],
   "source": [
    "import re\n",
    "\n",
    "\n",
    "pt_example = df_pt['Questão'][0]\n",
    "pt_example"
   ]
  },
  {
   "cell_type": "markdown",
   "id": "35524af7",
   "metadata": {},
   "source": [
    "# Remove code and HTML tag"
   ]
  },
  {
   "cell_type": "code",
   "execution_count": 5,
   "id": "ca796f62",
   "metadata": {
    "scrolled": true
   },
   "outputs": [
    {
     "data": {
      "text/plain": [
       "['<p>',\n",
       " '<em>',\n",
       " '<a href=\"http://pt.wikipedia.org/wiki/Fun%C3%A7%C3%A3o_de_embaralhamento_criptogr%C3%A1fico\" rel=\"noreferrer\">',\n",
       " '</a>',\n",
       " '</em>',\n",
       " '</p>',\n",
       " '<p>',\n",
       " '<a href=\"http://pt.wikipedia.org/wiki/Ataque_de_for%C3%A7a_bruta\" rel=\"noreferrer\">',\n",
       " '</a>',\n",
       " '<em>',\n",
       " '<a href=\"http://pt.wikipedia.org/wiki/Keylogger\" rel=\"noreferrer\">',\n",
       " '</a>',\n",
       " '</em>',\n",
       " '<a href=\"http://pt.wikipedia.org/wiki/Criptoan%C3%A1lise_de_mangueira_de_borracha\" rel=\"noreferrer\">',\n",
       " '<em>',\n",
       " '</em>',\n",
       " '</a>',\n",
       " '<em>',\n",
       " '</em>',\n",
       " '</p>',\n",
       " '<p>',\n",
       " '</p>',\n",
       " '<p>',\n",
       " '<em>',\n",
       " '</em>',\n",
       " '</p>']"
      ]
     },
     "execution_count": 5,
     "metadata": {},
     "output_type": "execute_result"
    }
   ],
   "source": [
    "re.findall('<.*?>', pt_example)"
   ]
  },
  {
   "cell_type": "code",
   "execution_count": 6,
   "id": "e2fc9923",
   "metadata": {},
   "outputs": [
    {
     "data": {
      "text/plain": [
       "'Se eu fizer o hash de senhas antes de armazená-las em meu banco de dados é suficiente para evitar que elas sejam recuperadas por alguém?\\n\\nEstou falando apenas da recuperação diretamente do banco de dados e não qualquer outro tipo de ataque, como força bruta na página de login da aplicação, keylogger no cliente e criptoanálise rubberhose. Qualquer forma de hash não vai impedir esses ataques.\\n\\nTenho preocupação em dificultar ou até impossibilitar a obtenção das senhas originais caso o banco de dados seja comprometido. Como dar maior garantia de segurança neste aspecto?\\n\\nQuais preocupações adicionais evitariam o acesso às senhas? Existem formas melhores de fazer esse hash?\\n'"
      ]
     },
     "execution_count": 6,
     "metadata": {},
     "output_type": "execute_result"
    }
   ],
   "source": [
    "pt_example_clean = re.sub('<.*?>', '', pt_example)\n",
    "pt_example_clean"
   ]
  },
  {
   "cell_type": "code",
   "execution_count": 9,
   "id": "21469896",
   "metadata": {},
   "outputs": [],
   "source": [
    "def remove_text(regex, texts):\n",
    "    if type(texts) == str:\n",
    "        return regex.sub('', texts)\n",
    "    return [regex.sub('', text) for text in texts]"
   ]
  },
  {
   "cell_type": "code",
   "execution_count": 22,
   "id": "6eedffe1",
   "metadata": {
    "scrolled": true
   },
   "outputs": [
    {
     "data": {
      "text/plain": [
       "'<p>Here is a piece of C++ code that seems very peculiar. For some strange reason, sorting the data miraculously makes the code almost six times faster.</p>\\n\\n<pre class=\"lang-cpp prettyprint-override\"><code>#include &lt;algorithm&gt;\\n#include &lt;ctime&gt;\\n#include &lt;iostream&gt;\\n\\nint main()\\n{\\n    // Generate data\\n    const unsigned arraySize = 32768;\\n    int data[arraySize];\\n\\n    for (unsigned c = 0; c &lt; arraySize; ++c)\\n        data[c] = std::rand() % 256;\\n\\n    // !!! With this, the next loop runs faster\\n    std::sort(data, data + arraySize);\\n\\n    // Test\\n    clock_t start = clock();\\n    long long sum = 0;\\n\\n    for (unsigned i = 0; i &lt; 100000; ++i)\\n    {\\n        // Primary loop\\n        for (unsigned c = 0; c &lt; arraySize; ++c)\\n        {\\n            if (data[c] &gt;= 128)\\n                sum += data[c];\\n        }\\n    }\\n\\n    double elapsedTime = static_cast&lt;double&gt;(clock() - start) / CLOCKS_PER_SEC;\\n\\n    std::cout &lt;&lt; elapsedTime &lt;&lt; std::endl;\\n    std::cout &lt;&lt; \"sum = \" &lt;&lt; sum &lt;&lt; std::endl;\\n}\\n</code></pre>\\n\\n<ul>\\n<li>Without <code>std::sort(data, data + arraySize);</code>, the code runs in 11.54 seconds.</li>\\n<li>With the sorted data, the code runs in 1.93 seconds.</li>\\n</ul>\\n\\n<p>Initially, I thought this might be just a language or compiler anomaly. So I tried it in Java.</p>\\n\\n<pre class=\"lang-java prettyprint-override\"><code>import java.util.Arrays;\\nimport java.util.Random;\\n\\npublic class Main\\n{\\n    public static void main(String[] args)\\n    {\\n        // Generate data\\n        int arraySize = 32768;\\n        int data[] = new int[arraySize];\\n\\n        Random rnd = new Random(0);\\n        for (int c = 0; c &lt; arraySize; ++c)\\n            data[c] = rnd.nextInt() % 256;\\n\\n        // !!! With this, the next loop runs faster\\n        Arrays.sort(data);\\n\\n        // Test\\n        long start = System.nanoTime();\\n        long sum = 0;\\n\\n        for (int i = 0; i &lt; 100000; ++i)\\n        {\\n            // Primary loop\\n            for (int c = 0; c &lt; arraySize; ++c)\\n            {\\n                if (data[c] &gt;= 128)\\n                    sum += data[c];\\n            }\\n        }\\n\\n        System.out.println((System.nanoTime() - start) / 1000000000.0);\\n        System.out.println(\"sum = \" + sum);\\n    }\\n}\\n</code></pre>\\n\\n<p>With a somewhat similar but less extreme result.</p>\\n\\n<hr>\\n\\n<p>My first thought was that sorting brings the data into the cache, but then I thought how silly that is because the array was just generated.</p>\\n\\n<ul>\\n<li>What is going on?</li>\\n<li>Why is it faster to process a sorted array than an unsorted array?</li>\\n<li>The code is summing up some independent terms, and the order should not matter.</li>\\n</ul>\\n'"
      ]
     },
     "execution_count": 22,
     "metadata": {},
     "output_type": "execute_result"
    }
   ],
   "source": [
    "en_example = df_en['Questão'][0]\n",
    "en_example"
   ]
  },
  {
   "cell_type": "code",
   "execution_count": 68,
   "id": "d08a31dd",
   "metadata": {},
   "outputs": [],
   "source": [
    "def sub_text(regex, texts, sub=' '):\n",
    "    if type(texts) == str:\n",
    "        return regex.sub(sub, texts)\n",
    "    return [regex.sub(sub, text) for text in texts]"
   ]
  },
  {
   "cell_type": "code",
   "execution_count": 25,
   "id": "d682d3c2",
   "metadata": {},
   "outputs": [],
   "source": [
    "regex_code = re.compile(r\"<code>(.|(\\n))*?</code>\")"
   ]
  },
  {
   "cell_type": "code",
   "execution_count": 70,
   "id": "3dc2e82a",
   "metadata": {},
   "outputs": [
    {
     "name": "stdout",
     "output_type": "stream",
     "text": [
      "<p>Here is a piece of C++ code that seems very peculiar. For some strange reason, sorting the data miraculously makes the code almost six times faster.</p>\n",
      "\n",
      "<pre class=\"lang-cpp prettyprint-override\">CODE</pre>\n",
      "\n",
      "<ul>\n",
      "<li>Without CODE, the code runs in 11.54 seconds.</li>\n",
      "<li>With the sorted data, the code runs in 1.93 seconds.</li>\n",
      "</ul>\n",
      "\n",
      "<p>Initially, I thought this might be just a language or compiler anomaly. So I tried it in Java.</p>\n",
      "\n",
      "<pre class=\"lang-java prettyprint-override\">CODE</pre>\n",
      "\n",
      "<p>With a somewhat similar but less extreme result.</p>\n",
      "\n",
      "<hr>\n",
      "\n",
      "<p>My first thought was that sorting brings the data into the cache, but then I thought how silly that is because the array was just generated.</p>\n",
      "\n",
      "<ul>\n",
      "<li>What is going on?</li>\n",
      "<li>Why is it faster to process a sorted array than an unsorted array?</li>\n",
      "<li>The code is summing up some independent terms, and the order should not matter.</li>\n",
      "</ul>\n",
      "\n"
     ]
    }
   ],
   "source": [
    "en_example_no_code = sub_text(regex_code, en_example, 'CODE')\n",
    "print(en_example_no_code)"
   ]
  },
  {
   "cell_type": "code",
   "execution_count": 71,
   "id": "1012bd4c",
   "metadata": {},
   "outputs": [
    {
     "name": "stdout",
     "output_type": "stream",
     "text": [
      "Here is a piece of C++ code that seems very peculiar. For some strange reason, sorting the data miraculously makes the code almost six times faster.\n",
      "\n",
      "CODE\n",
      "\n",
      "\n",
      "Without CODE, the code runs in 11.54 seconds.\n",
      "With the sorted data, the code runs in 1.93 seconds.\n",
      "\n",
      "\n",
      "Initially, I thought this might be just a language or compiler anomaly. So I tried it in Java.\n",
      "\n",
      "CODE\n",
      "\n",
      "With a somewhat similar but less extreme result.\n",
      "\n",
      "\n",
      "\n",
      "My first thought was that sorting brings the data into the cache, but then I thought how silly that is because the array was just generated.\n",
      "\n",
      "\n",
      "What is going on?\n",
      "Why is it faster to process a sorted array than an unsorted array?\n",
      "The code is summing up some independent terms, and the order should not matter.\n",
      "\n",
      "\n"
     ]
    }
   ],
   "source": [
    "regex_tag = re.compile('<.*?>')\n",
    "en_example_clean = remove_text(regex_tag, en_example_no_code)\n",
    "print(sub_text(regex_code, en_example_clean, 'CODE'))"
   ]
  },
  {
   "cell_type": "code",
   "execution_count": 72,
   "id": "a0cc91aa",
   "metadata": {},
   "outputs": [],
   "source": [
    "def add_columns_to_df(df, reg1, reg2):\n",
    "    txt1 = sub_text(reg1, df['Questão'], 'CODE')\n",
    "    txt2 = remove_text(reg2, txt1)\n",
    "    df['Questão w/o code'] = txt1\n",
    "    df['Questão w/o tag'] = txt2\n",
    "    return df"
   ]
  },
  {
   "cell_type": "code",
   "execution_count": 41,
   "id": "b5e6fc2a",
   "metadata": {},
   "outputs": [],
   "source": [
    "#Adding both columns to each dataframe\n",
    "\n",
    "df_pt = add_columns_to_df(df_pt, regex_code, regex_tag)\n",
    "df_en = add_columns_to_df(df_en, regex_code, regex_tag)\n",
    "df_es = add_columns_to_df(df_es, regex_code, regex_tag)"
   ]
  },
  {
   "cell_type": "markdown",
   "id": "dda8feba",
   "metadata": {},
   "source": [
    "# Punctuation, case sensitive, digits and space"
   ]
  },
  {
   "cell_type": "code",
   "execution_count": 42,
   "id": "b49f5141",
   "metadata": {},
   "outputs": [],
   "source": [
    "# Match all characters that are not alphanumeric and space\n",
    "\n",
    "punctuation_regex = re.compile(r'[^\\w\\s]')"
   ]
  },
  {
   "cell_type": "code",
   "execution_count": 53,
   "id": "8f8756a0",
   "metadata": {},
   "outputs": [
    {
     "name": "stdout",
     "output_type": "stream",
     "text": [
      "Here is a piece of C code that seems very peculiar For some strange reason sorting the data miraculously makes the code almost six times faster\n",
      "\n",
      "CODE\n",
      "\n",
      "\n",
      "Without CODE the code runs in 1154 seconds\n",
      "With the sorted data the code runs in 193 seconds\n",
      "\n",
      "\n",
      "Initially I thought this might be just a language or compiler anomaly So I tried it in Java\n",
      "\n",
      "CODE\n",
      "\n",
      "With a somewhat similar but less extreme result\n",
      "\n",
      "\n",
      "\n",
      "My first thought was that sorting brings the data into the cache but then I thought how silly that is because the array was just generated\n",
      "\n",
      "\n",
      "What is going on\n",
      "Why is it faster to process a sorted array than an unsorted array\n",
      "The code is summing up some independent terms and the order should not matter\n",
      "\n",
      "\n"
     ]
    }
   ],
   "source": [
    "print(remove_text(punctuation_regex, en_example_clean))"
   ]
  },
  {
   "cell_type": "code",
   "execution_count": 55,
   "id": "6aec3158",
   "metadata": {},
   "outputs": [
    {
     "name": "stdout",
     "output_type": "stream",
     "text": [
      "here is a piece of c++ code that seems very peculiar. for some strange reason, sorting the data miraculously makes the code almost six times faster.\n",
      "\n",
      "code\n",
      "\n",
      "\n",
      "without code, the code runs in 11.54 seconds.\n",
      "with the sorted data, the code runs in 1.93 seconds.\n",
      "\n",
      "\n",
      "initially, i thought this might be just a language or compiler anomaly. so i tried it in java.\n",
      "\n",
      "code\n",
      "\n",
      "with a somewhat similar but less extreme result.\n",
      "\n",
      "\n",
      "\n",
      "my first thought was that sorting brings the data into the cache, but then i thought how silly that is because the array was just generated.\n",
      "\n",
      "\n",
      "what is going on?\n",
      "why is it faster to process a sorted array than an unsorted array?\n",
      "the code is summing up some independent terms, and the order should not matter.\n",
      "\n",
      "\n"
     ]
    }
   ],
   "source": [
    "def lower(texts):\n",
    "    if type(texts) == str:\n",
    "        return texts.lower()\n",
    "    return [text.lower() for text in texts]\n",
    "print(lower(en_example_clean))"
   ]
  },
  {
   "cell_type": "code",
   "execution_count": 56,
   "id": "5f31064a",
   "metadata": {},
   "outputs": [
    {
     "name": "stdout",
     "output_type": "stream",
     "text": [
      "Example  bla \n"
     ]
    }
   ],
   "source": [
    "numeric_regex = re.compile(r\"\\d*\")\n",
    "print(remove_text(numeric_regex, txt))"
   ]
  },
  {
   "cell_type": "code",
   "execution_count": 85,
   "id": "2b7c1435",
   "metadata": {},
   "outputs": [
    {
     "name": "stdout",
     "output_type": "stream",
     "text": [
      "Multiple space\n",
      "=======================\n",
      "Multiple     newline\n"
     ]
    }
   ],
   "source": [
    "space_regex = re.compile(r\" +\")\n",
    "newline_regex = re.compile(r\"(\\n)\")\n",
    "print(sub_text(space_regex, 'Multiple     space'))\n",
    "print('=======================')\n",
    "print(sub_text(newline_regex, 'Multiple \\n\\n\\n newline'))"
   ]
  },
  {
   "cell_type": "code",
   "execution_count": 90,
   "id": "a90dda8a",
   "metadata": {},
   "outputs": [],
   "source": [
    "def pre_process(df):\n",
    "    text = remove_text(punctuation_regex, df['Questão w/o tag'])\n",
    "    text = lower(text)\n",
    "    text = remove_text(numeric_regex, text)\n",
    "    text = sub_text(newline_regex, text)\n",
    "    text = sub_text(space_regex, text)\n",
    "    return text"
   ]
  },
  {
   "cell_type": "code",
   "execution_count": 91,
   "id": "4bb49d97",
   "metadata": {},
   "outputs": [],
   "source": [
    "texts_pt = pre_process(df_pt)\n",
    "texts_en = pre_process(df_en)\n",
    "texts_es = pre_process(df_es)"
   ]
  },
  {
   "cell_type": "code",
   "execution_count": 115,
   "id": "56006398",
   "metadata": {},
   "outputs": [],
   "source": [
    "df_pt['Questão proc'] = texts_pt\n",
    "df_en['Questão proc'] = texts_en\n",
    "df_es['Questão proc'] = texts_es"
   ]
  },
  {
   "cell_type": "code",
   "execution_count": 93,
   "id": "e3159848",
   "metadata": {},
   "outputs": [
    {
     "data": {
      "text/plain": [
       "'i want to delete a branch both locally and remotely failed attempts to delete remote branch code what should i do differently to successfully delete the code branch both locally and remotely '"
      ]
     },
     "execution_count": 93,
     "metadata": {},
     "output_type": "execute_result"
    }
   ],
   "source": [
    "df_en['Questão proc'][2]"
   ]
  },
  {
   "cell_type": "markdown",
   "id": "839fdaf0",
   "metadata": {},
   "source": [
    "# Language models with bigrams"
   ]
  },
  {
   "cell_type": "code",
   "execution_count": 97,
   "id": "9d4b70cc",
   "metadata": {},
   "outputs": [
    {
     "name": "stdout",
     "output_type": "stream",
     "text": [
      "[('m', 'y'), ('y', ' '), (' ', 'b'), ('b', 'y'), ('y', 'g'), ('g', 'r'), ('r', 'a'), ('a', 'm')]\n"
     ]
    }
   ],
   "source": [
    "from nltk.util import bigrams\n",
    "\n",
    "\n",
    "\n",
    "text = 'my bygram'\n",
    "print(list(bigrams(text)))"
   ]
  },
  {
   "cell_type": "code",
   "execution_count": 102,
   "id": "848ee5a3",
   "metadata": {},
   "outputs": [
    {
     "name": "stdout",
     "output_type": "stream",
     "text": [
      "[('<s>', 'm'), ('m', 'y'), ('y', ' '), (' ', 'b'), ('b', 'y'), ('y', 'g'), ('g', 'r'), ('r', 'a'), ('a', 'm'), ('m', '</s>')]\n"
     ]
    }
   ],
   "source": [
    "from nltk.lm.preprocessing import pad_both_ends\n",
    "\n",
    "\n",
    "\n",
    "print(list(bigrams(pad_both_ends(text, 2))))"
   ]
  },
  {
   "cell_type": "markdown",
   "id": "d0020cfc",
   "metadata": {},
   "source": [
    "# Splitting data"
   ]
  },
  {
   "cell_type": "code",
   "execution_count": 103,
   "id": "21245f89",
   "metadata": {},
   "outputs": [],
   "source": [
    "df_pt['language'] = 'pt'\n",
    "df_en['language'] = 'en'\n",
    "df_es['language'] = 'es'"
   ]
  },
  {
   "cell_type": "code",
   "execution_count": 104,
   "id": "52e09531",
   "metadata": {},
   "outputs": [],
   "source": [
    "from sklearn.model_selection import train_test_split"
   ]
  },
  {
   "cell_type": "code",
   "execution_count": 116,
   "id": "7094aa01",
   "metadata": {},
   "outputs": [],
   "source": [
    "train_pt, test_pt = train_test_split(df_pt['Questão proc'], test_size=.2, random_state=42)"
   ]
  },
  {
   "cell_type": "code",
   "execution_count": 117,
   "id": "88f38133",
   "metadata": {},
   "outputs": [
    {
     "data": {
      "text/plain": [
       "249    estou trabalhando em um sistema muito grande u...\n",
       "433    estou estudando rest e desenvolvimento de web ...\n",
       "19     como saber se o código é de fácil leitura e ma...\n",
       "Name: Questão proc, dtype: object"
      ]
     },
     "execution_count": 117,
     "metadata": {},
     "output_type": "execute_result"
    }
   ],
   "source": [
    "train_pt[:3]"
   ]
  },
  {
   "cell_type": "code",
   "execution_count": 118,
   "id": "068552e6",
   "metadata": {},
   "outputs": [],
   "source": [
    "train_en, test_en = train_test_split(df_en['Questão proc'], test_size=.2, random_state=42)\n",
    "train_es, test_es = train_test_split(df_es['Questão proc'], test_size=.2, random_state=42)"
   ]
  },
  {
   "cell_type": "code",
   "execution_count": 178,
   "id": "89898945",
   "metadata": {},
   "outputs": [
    {
     "name": "stdout",
     "output_type": "stream",
     "text": [
      "estou trabalhando em um sistema muito grande utilizando net aspnet mvc a aplicação requer um nível \n",
      "\n",
      "Example corpus length: 213664\n"
     ]
    }
   ],
   "source": [
    "train_words_pt = ' '.join(train_pt)\n",
    "print(train_words_pt[:99])\n",
    "print(f'\\nExample corpus length: {len(train_words_pt)}')"
   ]
  },
  {
   "cell_type": "code",
   "execution_count": 131,
   "id": "ac4737d5",
   "metadata": {},
   "outputs": [
    {
     "name": "stdout",
     "output_type": "stream",
     "text": [
      "['estou', 'trabalhando', 'em', 'um', 'sistema']\n"
     ]
    }
   ],
   "source": [
    "from nltk.tokenize import WhitespaceTokenizer\n",
    "\n",
    "\n",
    "pt_tokenized = WhitespaceTokenizer().tokenize(train_words_pt)\n",
    "print(pt_tokenized[:5])"
   ]
  },
  {
   "cell_type": "code",
   "execution_count": 132,
   "id": "f4cd1b8e",
   "metadata": {},
   "outputs": [],
   "source": [
    "from nltk.lm.preprocessing import padded_everygram_pipeline\n",
    "\n",
    "\n",
    "train_pt_bigrams, vocab_pt = padded_everygram_pipeline(2, pt_tokenized)"
   ]
  },
  {
   "cell_type": "code",
   "execution_count": 137,
   "id": "3e71cde5",
   "metadata": {},
   "outputs": [],
   "source": [
    "from nltk.lm import MLE\n",
    "\n",
    "\n",
    "\n",
    "pt_model = MLE(2)\n",
    "pt_model.fit(train_pt_bigrams, vocab_pt)"
   ]
  },
  {
   "cell_type": "code",
   "execution_count": 139,
   "id": "63742c8c",
   "metadata": {},
   "outputs": [
    {
     "data": {
      "text/plain": [
       "dict_items([('</s>', 2693), ('a', 2096), ('u', 228), ('v', 23), ('p', 682), ('e', 1469), ('o', 854), ('s', 12), ('b', 147), ('i', 300), ('í', 16), ('g', 4), ('é', 70), ('á', 43), ('y', 14), ('ó', 39), ('l', 22), ('m', 26), ('ã', 3), ('â', 10), ('d', 1), ('ú', 2), ('w', 1), ('f', 1), ('q', 5)])"
      ]
     },
     "execution_count": 139,
     "metadata": {},
     "output_type": "execute_result"
    }
   ],
   "source": [
    "from nltk.lm import NgramCounter\n",
    "\n",
    "\n",
    "\n",
    "pt_model.counts[['m']].items()"
   ]
  },
  {
   "cell_type": "code",
   "execution_count": 156,
   "id": "f257c83f",
   "metadata": {},
   "outputs": [
    {
     "name": "stdout",
     "output_type": "stream",
     "text": [
      "[[('<s>', 'e'), ('e', 'n'), ('n', '</s>')], [('<s>', 'b'), ('b', 'r'), ('r', 'u'), ('u', 'j'), ('j', 'a'), ('a', 's'), ('s', '</s>')], [('<s>', 'n'), ('n', 'o'), ('o', '</s>')], [('<s>', 'c'), ('c', 'r'), ('r', 'e'), ('e', 'o'), ('o', '</s>')]]\n"
     ]
    }
   ],
   "source": [
    "text = 'en brujas no creo'\n",
    "words = WhitespaceTokenizer().tokenize(text)\n",
    "words_fake_char = [list(pad_both_ends(word, 2)) for word in words]\n",
    "foo = [list(bigrams(word)) for word in words_fake_char]\n",
    "\n",
    "\n",
    "print(foo)"
   ]
  },
  {
   "cell_type": "markdown",
   "id": "47967fc0",
   "metadata": {},
   "source": [
    "# Eval model"
   ]
  },
  {
   "cell_type": "code",
   "execution_count": 147,
   "id": "3d8955c8",
   "metadata": {},
   "outputs": [],
   "source": [
    "def train_model(list_of_texts):\n",
    "    all_texts = ' '.join(list_of_texts)\n",
    "    all_words = WhitespaceTokenizer().tokenize(all_texts)\n",
    "    bigrams, vocab = padded_everygram_pipeline(2, all_words)\n",
    "    model = MLE(2)\n",
    "    model.fit(bigrams, vocab)\n",
    "    return model "
   ]
  },
  {
   "cell_type": "code",
   "execution_count": 160,
   "id": "0c58ad18",
   "metadata": {},
   "outputs": [],
   "source": [
    "pt_model = train_model(train_pt)\n",
    "en_model = train_model(train_en)\n",
    "es_model = train_model(train_es)"
   ]
  },
  {
   "cell_type": "code",
   "execution_count": 161,
   "id": "1e34c05c",
   "metadata": {},
   "outputs": [
    {
     "data": {
      "text/plain": [
       "25.621244583990137"
      ]
     },
     "execution_count": 161,
     "metadata": {},
     "output_type": "execute_result"
    }
   ],
   "source": [
    "pt_model.perplexity(foo[1])"
   ]
  },
  {
   "cell_type": "code",
   "execution_count": 162,
   "id": "995c3ba4",
   "metadata": {},
   "outputs": [
    {
     "data": {
      "text/plain": [
       "inf"
      ]
     },
     "execution_count": 162,
     "metadata": {},
     "output_type": "execute_result"
    }
   ],
   "source": [
    "en_model.perplexity(foo[1])"
   ]
  },
  {
   "cell_type": "code",
   "execution_count": 163,
   "id": "c4a406a1",
   "metadata": {},
   "outputs": [
    {
     "data": {
      "text/plain": [
       "25.087730518238395"
      ]
     },
     "execution_count": 163,
     "metadata": {},
     "output_type": "execute_result"
    }
   ],
   "source": [
    "es_model.perplexity(foo[1])"
   ]
  },
  {
   "cell_type": "code",
   "execution_count": 166,
   "id": "9e2f5ae5",
   "metadata": {},
   "outputs": [],
   "source": [
    "def text_perplexity(model, text):\n",
    "    perplexity = 0\n",
    "    words = WhitespaceTokenizer().tokenize(text)\n",
    "    words_fake_char = [list(pad_both_ends(word, 2)) for word in words]\n",
    "    word_bigrams = [list(bigrams(word)) for word in words_fake_char]\n",
    "    \n",
    "    for word in word_bigrams:\n",
    "        perplexity += model.perplexity(word)\n",
    "        \n",
    "    return perplexity"
   ]
  },
  {
   "cell_type": "code",
   "execution_count": 170,
   "id": "f323fde3",
   "metadata": {},
   "outputs": [
    {
     "name": "stdout",
     "output_type": "stream",
     "text": [
      "Portuguese model perplexity: 68.87\n",
      "Spanish model perplexity: 55.96\n"
     ]
    }
   ],
   "source": [
    "print(f'Portuguese model perplexity: {text_perplexity(pt_model, text):.2f}')\n",
    "print(f'Spanish model perplexity: {text_perplexity(es_model, text):.2f}')"
   ]
  },
  {
   "cell_type": "markdown",
   "id": "dba76600",
   "metadata": {},
   "source": [
    "# Laplace language model"
   ]
  },
  {
   "cell_type": "code",
   "execution_count": 179,
   "id": "0665ba6e",
   "metadata": {},
   "outputs": [],
   "source": [
    "from nltk.lm import Laplace"
   ]
  },
  {
   "cell_type": "code",
   "execution_count": 180,
   "id": "aa309b0e",
   "metadata": {},
   "outputs": [],
   "source": [
    "def train_model(list_of_texts):\n",
    "    all_texts = ' '.join(list_of_texts)\n",
    "    all_words = WhitespaceTokenizer().tokenize(all_texts)\n",
    "    bigrams, vocab = padded_everygram_pipeline(2, all_words)\n",
    "    model = Laplace(2)\n",
    "    model.fit(bigrams, vocab)\n",
    "    return model "
   ]
  },
  {
   "cell_type": "code",
   "execution_count": 181,
   "id": "d6b03d1a",
   "metadata": {},
   "outputs": [],
   "source": [
    "pt_laplace = train_model(train_pt)\n",
    "en_laplace = train_model(train_en)\n",
    "es_laplace = train_model(train_es)"
   ]
  },
  {
   "cell_type": "code",
   "execution_count": 183,
   "id": "1868ebe4",
   "metadata": {},
   "outputs": [
    {
     "data": {
      "text/plain": [
       "'las sentencias dinámicas son sentencias sql que se crean como cadenas de texto strings y en las que se insertanconcatenan valores obtenidos de alguna fuente normalmente proveniente del usuario lo que puede hacer que sean vulnerables a inyección sql si no se sanean las entradas como por ejemplo code eso es un ejemplo de una vulnerabilidad grave en la seguridad de una aplicación web o no porque si el usuario introdujese un valor como code nos encontraríamos con que la sentencia ejecutada sería code y se eliminaría la tabla usuarios con todos los datos contenidos en ella cómo puedo evitar que la inyección sql ocurra en php '"
      ]
     },
     "execution_count": 183,
     "metadata": {},
     "output_type": "execute_result"
    }
   ],
   "source": [
    "test_es[0]"
   ]
  },
  {
   "cell_type": "code",
   "execution_count": 187,
   "id": "7c717795",
   "metadata": {},
   "outputs": [
    {
     "name": "stdout",
     "output_type": "stream",
     "text": [
      "English model perplexity: 1694.80\n",
      "Portuguese model perplexity: 1222.27\n",
      "Spanish model perplexity: 1046.67\n"
     ]
    }
   ],
   "source": [
    "print(f'English model perplexity: {text_perplexity(en_laplace, test_es[0]):.2f}')\n",
    "print(f'Portuguese model perplexity: {text_perplexity(pt_laplace, test_pt[0]):.2f}')\n",
    "print(f'Spanish model perplexity: {text_perplexity(es_laplace, test_es[0]):.2f}')"
   ]
  },
  {
   "cell_type": "code",
   "execution_count": null,
   "id": "d89df510",
   "metadata": {},
   "outputs": [],
   "source": [
    "def assign_language(model, list_of_texts):\n",
    "    for text in list_of_texts\n",
    "    "
   ]
  }
 ],
 "metadata": {
  "kernelspec": {
   "display_name": "Python 3 (ipykernel)",
   "language": "python",
   "name": "python3"
  },
  "language_info": {
   "codemirror_mode": {
    "name": "ipython",
    "version": 3
   },
   "file_extension": ".py",
   "mimetype": "text/x-python",
   "name": "python",
   "nbconvert_exporter": "python",
   "pygments_lexer": "ipython3",
   "version": "3.9.12"
  }
 },
 "nbformat": 4,
 "nbformat_minor": 5
}
